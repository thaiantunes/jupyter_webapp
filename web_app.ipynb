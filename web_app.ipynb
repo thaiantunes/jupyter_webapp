{
 "cells": [
  {
   "cell_type": "code",
   "execution_count": 21,
   "id": "e01fef82",
   "metadata": {},
   "outputs": [],
   "source": [
    "import ipywidgets as widgets\n",
    "from food_calc import food_calc\n",
    "from IPython.display import display, clear_output\n",
    "\n",
    "# image\n",
    "file = open(\"barbecue.jpg\", \"rb\")\n",
    "image = file.read()\n",
    "\n",
    "image_headline = widgets.Image(\n",
    "                    value=image,\n",
    "                    format='jpg',\n",
    "                    width='300'\n",
    "                )\n",
    "\n",
    "label_headline = widgets.Label(\n",
    "                    value='Photo by zgrillsaustralia on Unsplash',\n",
    "                    style={'description_width': 'initial'}\n",
    "                )\n",
    "\n",
    "vbox_headline = widgets.VBox([image_headline, label_headline])\n",
    "\n",
    "# barbecue data\n",
    "name = widgets.Text(placeholder='BBQ Theme')\n",
    "\n",
    "date = widgets.DatePicker(description='BBQ Date:  ')\n",
    "\n",
    "# number of guests\n",
    "guests = widgets.IntSlider(\n",
    "            value=10, \n",
    "            min=0, \n",
    "            max=100,\n",
    "            step=1,\n",
    "            style={'description_width': 'initial'} \n",
    "          )\n",
    "\n",
    "veggie_guests = widgets.IntSlider(\n",
    "            value=10, \n",
    "            min=0, \n",
    "            max=100,\n",
    "            step=1,\n",
    "            style={'description_width': 'initial'} \n",
    "          )\n",
    "\n",
    "# food picker\n",
    "red = widgets.ToggleButtons(\n",
    "            options=['Yes', 'No']\n",
    "        )\n",
    "\n",
    "chicken = widgets.ToggleButtons(\n",
    "            options=['Yes', 'No']\n",
    "        )\n",
    "\n",
    "corn = widgets.ToggleButtons(\n",
    "            options=['Yes', 'No']\n",
    "        )\n",
    "\n",
    "# create button\n",
    "button_create = widgets.Button(\n",
    "                description='Create Shopping List',\n",
    "                tooltip='Create',\n",
    "                style={'description_width': 'initial'}\n",
    "            )\n",
    "                   \n",
    "output = widgets.Output()\n",
    "\n",
    "def on_button_clicked(event):\n",
    "    food = food_calc(guests.value, veggie_guests.value, red.value, chicken.value, corn.value)\n",
    "    food_names = [\"tomato\", \"zucchini\", \"onion\", \"corn\", \"grams of red meat\", \"grams of chicken\"]\n",
    "    with output:\n",
    "        clear_output()\n",
    "        print(f\"Shopping List for {name.value} Barbecue on {date.value}: \")\n",
    "        print(f\"------------------------------------------------------\")\n",
    "        for index,i in enumerate(food):\n",
    "            if i:\n",
    "                print(f\"{i} {food_names[index]}\")\n",
    "\n",
    "button_create.on_click(on_button_clicked)\n",
    "\n",
    "vbox_result = widgets.VBox([button_create, output])"
   ]
  },
  {
   "cell_type": "code",
   "execution_count": 30,
   "id": "968faaf4",
   "metadata": {},
   "outputs": [],
   "source": [
    "# stacked right hand side\n",
    "\n",
    "text_0 = widgets.HTML(value=\"<h2>Barbecue Shopping List Generator</h2>\")\n",
    "text_3 = widgets.HTML(value=\"Number of Guests\")\n",
    "text_4 = widgets.HTML(value=\"Number of Vegetarian Guests\")\n",
    "text_5 = widgets.HTML(value=\"Red Meat?\")\n",
    "text_6 = widgets.HTML(value=\"Chicken?\")\n",
    "text_7 = widgets.HTML(value=\"Corn?\")\n",
    "\n",
    "vbox_text = widgets.VBox([text_0, name, date, text_3, guests, text_4, veggie_guests, text_5, red, text_6, chicken, text_7, corn, vbox_result])"
   ]
  },
  {
   "cell_type": "code",
   "execution_count": 31,
   "id": "f195726e",
   "metadata": {},
   "outputs": [
    {
     "data": {
      "application/vnd.jupyter.widget-view+json": {
       "model_id": "78fb810549434d77815e216332416050",
       "version_major": 2,
       "version_minor": 0
      },
      "text/plain": [
       "HBox(children=(VBox(children=(Image(value=b'\\xff\\xd8\\xff\\xe0\\x00\\x10JFIF\\x00\\x01\\x01\\x01\\x00H\\x00H\\x00\\x00\\xff…"
      ]
     },
     "metadata": {},
     "output_type": "display_data"
    }
   ],
   "source": [
    "page = widgets.HBox([vbox_headline, vbox_text])\n",
    "display(page)"
   ]
  }
 ],
 "metadata": {
  "kernelspec": {
   "display_name": "Python 3 (ipykernel)",
   "language": "python",
   "name": "python3"
  },
  "language_info": {
   "codemirror_mode": {
    "name": "ipython",
    "version": 3
   },
   "file_extension": ".py",
   "mimetype": "text/x-python",
   "name": "python",
   "nbconvert_exporter": "python",
   "pygments_lexer": "ipython3",
   "version": "3.10.9"
  },
  "vscode": {
   "interpreter": {
    "hash": "78199063cf23413e1affa8c6806cfebbe2c7bb19b4c4f7f9ac6ea10876c967bd"
   }
  }
 },
 "nbformat": 4,
 "nbformat_minor": 5
}
